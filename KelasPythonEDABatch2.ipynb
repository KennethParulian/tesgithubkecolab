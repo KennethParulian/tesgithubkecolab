{
  "nbformat": 4,
  "nbformat_minor": 0,
  "metadata": {
    "colab": {
      "name": "KelasPythonEDABatch2.ipynb",
      "provenance": [],
      "collapsed_sections": [],
      "authorship_tag": "ABX9TyMcF6GbCvACFHwxnyUWtrWg",
      "include_colab_link": true
    },
    "kernelspec": {
      "name": "python3",
      "display_name": "Python 3"
    },
    "language_info": {
      "name": "python"
    }
  },
  "cells": [
    {
      "cell_type": "markdown",
      "metadata": {
        "id": "view-in-github",
        "colab_type": "text"
      },
      "source": [
        "<a href=\"https://colab.research.google.com/github/KennethParulian/tesgithubkecolab/blob/main/KelasPythonEDABatch2.ipynb\" target=\"_parent\"><img src=\"https://colab.research.google.com/assets/colab-badge.svg\" alt=\"Open In Colab\"/></a>"
      ]
    },
    {
      "cell_type": "markdown",
      "metadata": {
        "id": "OEt6beqJp_KP"
      },
      "source": [
        "*Python EDA*"
      ]
    },
    {
      "cell_type": "markdown",
      "metadata": {
        "id": "_b2tqFf4qDGf"
      },
      "source": [
        "**importing Libraries**\n"
      ]
    },
    {
      "cell_type": "code",
      "metadata": {
        "id": "vSPWg5rik7bF"
      },
      "source": [
        "import numpy as np\n",
        "import seaborn as sns\n",
        "import pandas as pd\n",
        "import matplotlib.pyplot as plt\n",
        "from google.colab import files\n"
      ],
      "execution_count": 28,
      "outputs": []
    },
    {
      "cell_type": "markdown",
      "metadata": {
        "id": "DQj6rXKuqWNW"
      },
      "source": [
        "**Connect Datasource**"
      ]
    },
    {
      "cell_type": "code",
      "metadata": {
        "id": "Cb06IuWEnPpM"
      },
      "source": [
        "url = 'https://raw.githubusercontent.com/KennethParulian/PythonEDAEnigmacamp/main/dummydata_kendaraan.csv'\n",
        "link = 'https://raw.githubusercontent.com/KennethParulian/PythonEDAEnigmacamp/main/Python%20Enigmacamp%20Datasource.csv'\n",
        "df = pd.read_csv(url)\n",
        "link = pd.read_csv(link)"
      ],
      "execution_count": 29,
      "outputs": []
    },
    {
      "cell_type": "markdown",
      "metadata": {
        "id": "06IK161Ys6P1"
      },
      "source": [
        "**Data Validation**\n"
      ]
    },
    {
      "cell_type": "code",
      "metadata": {
        "colab": {
          "base_uri": "https://localhost:8080/",
          "height": 363
        },
        "id": "GUCLfwG5s9pl",
        "outputId": "4e6969df-a17d-42b3-fc49-e0e4bfaf6cdc"
      },
      "source": [
        "df.head(10)"
      ],
      "execution_count": 30,
      "outputs": [
        {
          "output_type": "execute_result",
          "data": {
            "text/html": [
              "<div>\n",
              "<style scoped>\n",
              "    .dataframe tbody tr th:only-of-type {\n",
              "        vertical-align: middle;\n",
              "    }\n",
              "\n",
              "    .dataframe tbody tr th {\n",
              "        vertical-align: top;\n",
              "    }\n",
              "\n",
              "    .dataframe thead th {\n",
              "        text-align: right;\n",
              "    }\n",
              "</style>\n",
              "<table border=\"1\" class=\"dataframe\">\n",
              "  <thead>\n",
              "    <tr style=\"text-align: right;\">\n",
              "      <th></th>\n",
              "      <th>id</th>\n",
              "      <th>cust_first_name</th>\n",
              "      <th>cust_last_name</th>\n",
              "      <th>email</th>\n",
              "      <th>brand</th>\n",
              "      <th>model</th>\n",
              "      <th>produce_year</th>\n",
              "      <th>price</th>\n",
              "    </tr>\n",
              "  </thead>\n",
              "  <tbody>\n",
              "    <tr>\n",
              "      <th>0</th>\n",
              "      <td>1</td>\n",
              "      <td>Eben</td>\n",
              "      <td>Eckly</td>\n",
              "      <td>eeckly0@cisco.com</td>\n",
              "      <td>Ford</td>\n",
              "      <td>Econoline E250</td>\n",
              "      <td>2000</td>\n",
              "      <td>$142491.96</td>\n",
              "    </tr>\n",
              "    <tr>\n",
              "      <th>1</th>\n",
              "      <td>2</td>\n",
              "      <td>Roze</td>\n",
              "      <td>Bracchi</td>\n",
              "      <td>rbracchi1@redcross.org</td>\n",
              "      <td>Dodge</td>\n",
              "      <td>Avenger</td>\n",
              "      <td>2000</td>\n",
              "      <td>$155259.50</td>\n",
              "    </tr>\n",
              "    <tr>\n",
              "      <th>2</th>\n",
              "      <td>3</td>\n",
              "      <td>Bertram</td>\n",
              "      <td>Coraini</td>\n",
              "      <td>bcoraini2@archive.org</td>\n",
              "      <td>Saab</td>\n",
              "      <td>9000</td>\n",
              "      <td>1996</td>\n",
              "      <td>$58439.18</td>\n",
              "    </tr>\n",
              "    <tr>\n",
              "      <th>3</th>\n",
              "      <td>4</td>\n",
              "      <td>Timothy</td>\n",
              "      <td>Constant</td>\n",
              "      <td>tconstant3@livejournal.com</td>\n",
              "      <td>Audi</td>\n",
              "      <td>Quattro</td>\n",
              "      <td>1992</td>\n",
              "      <td>$37731.59</td>\n",
              "    </tr>\n",
              "    <tr>\n",
              "      <th>4</th>\n",
              "      <td>5</td>\n",
              "      <td>Claudie</td>\n",
              "      <td>Schimmang</td>\n",
              "      <td>cschimmang4@live.com</td>\n",
              "      <td>Cadillac</td>\n",
              "      <td>Escalade</td>\n",
              "      <td>2010</td>\n",
              "      <td>$98561.21</td>\n",
              "    </tr>\n",
              "    <tr>\n",
              "      <th>5</th>\n",
              "      <td>6</td>\n",
              "      <td>Michele</td>\n",
              "      <td>Starr</td>\n",
              "      <td>mstarr5@kickstarter.com</td>\n",
              "      <td>BMW</td>\n",
              "      <td>M3</td>\n",
              "      <td>1999</td>\n",
              "      <td>$48253.01</td>\n",
              "    </tr>\n",
              "    <tr>\n",
              "      <th>6</th>\n",
              "      <td>7</td>\n",
              "      <td>Feliza</td>\n",
              "      <td>Sanchez</td>\n",
              "      <td>fsanchez6@surveymonkey.com</td>\n",
              "      <td>Maybach</td>\n",
              "      <td>62</td>\n",
              "      <td>2012</td>\n",
              "      <td>$45873.94</td>\n",
              "    </tr>\n",
              "    <tr>\n",
              "      <th>7</th>\n",
              "      <td>8</td>\n",
              "      <td>Martha</td>\n",
              "      <td>Windridge</td>\n",
              "      <td>mwindridge7@amazon.de</td>\n",
              "      <td>Plymouth</td>\n",
              "      <td>Breeze</td>\n",
              "      <td>2000</td>\n",
              "      <td>$81065.61</td>\n",
              "    </tr>\n",
              "    <tr>\n",
              "      <th>8</th>\n",
              "      <td>9</td>\n",
              "      <td>Yancey</td>\n",
              "      <td>Meadows</td>\n",
              "      <td>ymeadows8@printfriendly.com</td>\n",
              "      <td>Lincoln</td>\n",
              "      <td>Continental Mark VII</td>\n",
              "      <td>1989</td>\n",
              "      <td>$106960.73</td>\n",
              "    </tr>\n",
              "    <tr>\n",
              "      <th>9</th>\n",
              "      <td>10</td>\n",
              "      <td>Peg</td>\n",
              "      <td>Pluck</td>\n",
              "      <td>ppluck9@wired.com</td>\n",
              "      <td>GMC</td>\n",
              "      <td>3500</td>\n",
              "      <td>1996</td>\n",
              "      <td>$60161.02</td>\n",
              "    </tr>\n",
              "  </tbody>\n",
              "</table>\n",
              "</div>"
            ],
            "text/plain": [
              "   id cust_first_name  ... produce_year       price\n",
              "0   1            Eben  ...         2000  $142491.96\n",
              "1   2            Roze  ...         2000  $155259.50\n",
              "2   3         Bertram  ...         1996   $58439.18\n",
              "3   4         Timothy  ...         1992   $37731.59\n",
              "4   5         Claudie  ...         2010   $98561.21\n",
              "5   6         Michele  ...         1999   $48253.01\n",
              "6   7          Feliza  ...         2012   $45873.94\n",
              "7   8          Martha  ...         2000   $81065.61\n",
              "8   9          Yancey  ...         1989  $106960.73\n",
              "9  10             Peg  ...         1996   $60161.02\n",
              "\n",
              "[10 rows x 8 columns]"
            ]
          },
          "metadata": {},
          "execution_count": 30
        }
      ]
    },
    {
      "cell_type": "code",
      "metadata": {
        "colab": {
          "base_uri": "https://localhost:8080/",
          "height": 363
        },
        "id": "Al7nqK0K4l5I",
        "outputId": "a15dae12-dde2-4cf3-a57d-ff969c2ad92e"
      },
      "source": [
        "link.head(10)"
      ],
      "execution_count": 31,
      "outputs": [
        {
          "output_type": "execute_result",
          "data": {
            "text/html": [
              "<div>\n",
              "<style scoped>\n",
              "    .dataframe tbody tr th:only-of-type {\n",
              "        vertical-align: middle;\n",
              "    }\n",
              "\n",
              "    .dataframe tbody tr th {\n",
              "        vertical-align: top;\n",
              "    }\n",
              "\n",
              "    .dataframe thead th {\n",
              "        text-align: right;\n",
              "    }\n",
              "</style>\n",
              "<table border=\"1\" class=\"dataframe\">\n",
              "  <thead>\n",
              "    <tr style=\"text-align: right;\">\n",
              "      <th></th>\n",
              "      <th>Unnamed: 0</th>\n",
              "      <th>text</th>\n",
              "      <th>rating</th>\n",
              "      <th>category</th>\n",
              "      <th>product_name</th>\n",
              "      <th>product_id</th>\n",
              "      <th>sold</th>\n",
              "      <th>shop_id</th>\n",
              "      <th>product_url</th>\n",
              "    </tr>\n",
              "  </thead>\n",
              "  <tbody>\n",
              "    <tr>\n",
              "      <th>0</th>\n",
              "      <td>1</td>\n",
              "      <td>Barang sesuai pesanan dan cepat sampai</td>\n",
              "      <td>5</td>\n",
              "      <td>pertukangan</td>\n",
              "      <td>Staples Dekorasi Staples Kayu + Refill 8mm - S...</td>\n",
              "      <td>418660637</td>\n",
              "      <td>1</td>\n",
              "      <td>1740837</td>\n",
              "      <td>https://www.tokopedia.com/shakaonline87/staple...</td>\n",
              "    </tr>\n",
              "    <tr>\n",
              "      <th>1</th>\n",
              "      <td>2</td>\n",
              "      <td>Barang bagus harga murah</td>\n",
              "      <td>5</td>\n",
              "      <td>pertukangan</td>\n",
              "      <td>STAPLE GUN ATS 3 WAY TACKER - STAPLES JOK TEMB...</td>\n",
              "      <td>416032545</td>\n",
              "      <td>11</td>\n",
              "      <td>1477109</td>\n",
              "      <td>https://www.tokopedia.com/juraganperkakas/stap...</td>\n",
              "    </tr>\n",
              "    <tr>\n",
              "      <th>2</th>\n",
              "      <td>3</td>\n",
              "      <td>Paket rapi...mantap....cepat....sampe ke tujuan</td>\n",
              "      <td>5</td>\n",
              "      <td>pertukangan</td>\n",
              "      <td>STAPLE GUN ATS 3 WAY TACKER - STAPLES JOK TEMB...</td>\n",
              "      <td>416032545</td>\n",
              "      <td>11</td>\n",
              "      <td>1477109</td>\n",
              "      <td>https://www.tokopedia.com/juraganperkakas/stap...</td>\n",
              "    </tr>\n",
              "    <tr>\n",
              "      <th>3</th>\n",
              "      <td>4</td>\n",
              "      <td>ya saya puas dgn barangnya</td>\n",
              "      <td>5</td>\n",
              "      <td>pertukangan</td>\n",
              "      <td>ALAT STAPLES TEMBAK &amp;#40;AIR NAILER GUN&amp;#41; O...</td>\n",
              "      <td>102279869</td>\n",
              "      <td>5</td>\n",
              "      <td>771395</td>\n",
              "      <td>https://www.tokopedia.com/kamarmesin/alat-stap...</td>\n",
              "    </tr>\n",
              "    <tr>\n",
              "      <th>4</th>\n",
              "      <td>5</td>\n",
              "      <td>Responya luar biasa b mantap</td>\n",
              "      <td>5</td>\n",
              "      <td>pertukangan</td>\n",
              "      <td>Isi Refill Staples Jok Kulit Motor / Staple Gu...</td>\n",
              "      <td>190679689</td>\n",
              "      <td>787</td>\n",
              "      <td>969999</td>\n",
              "      <td>https://www.tokopedia.com/mitrapersada/isi-ref...</td>\n",
              "    </tr>\n",
              "    <tr>\n",
              "      <th>5</th>\n",
              "      <td>6</td>\n",
              "      <td>seller top, pengiriman cepat barang oke</td>\n",
              "      <td>5</td>\n",
              "      <td>pertukangan</td>\n",
              "      <td>Isi Refill Staples Jok Kulit Motor / Staple Gu...</td>\n",
              "      <td>190679689</td>\n",
              "      <td>787</td>\n",
              "      <td>969999</td>\n",
              "      <td>https://www.tokopedia.com/mitrapersada/isi-ref...</td>\n",
              "    </tr>\n",
              "    <tr>\n",
              "      <th>6</th>\n",
              "      <td>7</td>\n",
              "      <td>pengiriman cepat seller top</td>\n",
              "      <td>5</td>\n",
              "      <td>pertukangan</td>\n",
              "      <td>Isi Refill Staples Jok Kulit Motor / Staple Gu...</td>\n",
              "      <td>190679689</td>\n",
              "      <td>787</td>\n",
              "      <td>969999</td>\n",
              "      <td>https://www.tokopedia.com/mitrapersada/isi-ref...</td>\n",
              "    </tr>\n",
              "    <tr>\n",
              "      <th>7</th>\n",
              "      <td>8</td>\n",
              "      <td>Produk sesuai dengan spec di web dan respon se...</td>\n",
              "      <td>5</td>\n",
              "      <td>pertukangan</td>\n",
              "      <td>Isi Refill Staples Jok Kulit Motor / Staple Gu...</td>\n",
              "      <td>190679689</td>\n",
              "      <td>787</td>\n",
              "      <td>969999</td>\n",
              "      <td>https://www.tokopedia.com/mitrapersada/isi-ref...</td>\n",
              "    </tr>\n",
              "    <tr>\n",
              "      <th>8</th>\n",
              "      <td>10</td>\n",
              "      <td>Respon super cepat, pengiriman cepat, Barang b...</td>\n",
              "      <td>5</td>\n",
              "      <td>pertukangan</td>\n",
              "      <td>refill staples gun tacker manual isi paku temb...</td>\n",
              "      <td>316217334</td>\n",
              "      <td>82</td>\n",
              "      <td>231740</td>\n",
              "      <td>https://www.tokopedia.com/rumahbajukita/refill...</td>\n",
              "    </tr>\n",
              "    <tr>\n",
              "      <th>9</th>\n",
              "      <td>11</td>\n",
              "      <td>Barang mantap, pelayanan cepat</td>\n",
              "      <td>5</td>\n",
              "      <td>pertukangan</td>\n",
              "      <td>refill staples gun tacker manual isi paku temb...</td>\n",
              "      <td>316217334</td>\n",
              "      <td>82</td>\n",
              "      <td>231740</td>\n",
              "      <td>https://www.tokopedia.com/rumahbajukita/refill...</td>\n",
              "    </tr>\n",
              "  </tbody>\n",
              "</table>\n",
              "</div>"
            ],
            "text/plain": [
              "   Unnamed: 0  ...                                        product_url\n",
              "0           1  ...  https://www.tokopedia.com/shakaonline87/staple...\n",
              "1           2  ...  https://www.tokopedia.com/juraganperkakas/stap...\n",
              "2           3  ...  https://www.tokopedia.com/juraganperkakas/stap...\n",
              "3           4  ...  https://www.tokopedia.com/kamarmesin/alat-stap...\n",
              "4           5  ...  https://www.tokopedia.com/mitrapersada/isi-ref...\n",
              "5           6  ...  https://www.tokopedia.com/mitrapersada/isi-ref...\n",
              "6           7  ...  https://www.tokopedia.com/mitrapersada/isi-ref...\n",
              "7           8  ...  https://www.tokopedia.com/mitrapersada/isi-ref...\n",
              "8          10  ...  https://www.tokopedia.com/rumahbajukita/refill...\n",
              "9          11  ...  https://www.tokopedia.com/rumahbajukita/refill...\n",
              "\n",
              "[10 rows x 9 columns]"
            ]
          },
          "metadata": {},
          "execution_count": 31
        }
      ]
    },
    {
      "cell_type": "code",
      "metadata": {
        "colab": {
          "base_uri": "https://localhost:8080/"
        },
        "id": "VY8Cig-JyqxS",
        "outputId": "46c4157b-fba3-461c-ef47-8365d54a6b7e"
      },
      "source": [
        "df.info()"
      ],
      "execution_count": 32,
      "outputs": [
        {
          "output_type": "stream",
          "name": "stdout",
          "text": [
            "<class 'pandas.core.frame.DataFrame'>\n",
            "RangeIndex: 1000 entries, 0 to 999\n",
            "Data columns (total 8 columns):\n",
            " #   Column           Non-Null Count  Dtype \n",
            "---  ------           --------------  ----- \n",
            " 0   id               1000 non-null   int64 \n",
            " 1   cust_first_name  1000 non-null   object\n",
            " 2   cust_last_name   1000 non-null   object\n",
            " 3   email            1000 non-null   object\n",
            " 4   brand            1000 non-null   object\n",
            " 5   model            1000 non-null   object\n",
            " 6   produce_year     1000 non-null   int64 \n",
            " 7   price            1000 non-null   object\n",
            "dtypes: int64(2), object(6)\n",
            "memory usage: 62.6+ KB\n"
          ]
        }
      ]
    },
    {
      "cell_type": "code",
      "metadata": {
        "colab": {
          "base_uri": "https://localhost:8080/"
        },
        "id": "FG2tajRky7ia",
        "outputId": "5caccc89-bdd8-47f3-b677-70a4b7fb23df"
      },
      "source": [
        "df.duplicated(subset=None, keep='first')"
      ],
      "execution_count": 33,
      "outputs": [
        {
          "output_type": "execute_result",
          "data": {
            "text/plain": [
              "0      False\n",
              "1      False\n",
              "2      False\n",
              "3      False\n",
              "4      False\n",
              "       ...  \n",
              "995    False\n",
              "996    False\n",
              "997    False\n",
              "998    False\n",
              "999    False\n",
              "Length: 1000, dtype: bool"
            ]
          },
          "metadata": {},
          "execution_count": 33
        }
      ]
    },
    {
      "cell_type": "code",
      "metadata": {
        "id": "6jRUYeBp2ezg"
      },
      "source": [
        "df.drop(\"email\", axis=1, inplace=True)"
      ],
      "execution_count": 34,
      "outputs": []
    },
    {
      "cell_type": "code",
      "metadata": {
        "colab": {
          "base_uri": "https://localhost:8080/",
          "height": 206
        },
        "id": "iKatmz0u7TSt",
        "outputId": "bd42a0b4-09a7-49ce-8b5c-d051c6a10675"
      },
      "source": [
        "df.head(5)"
      ],
      "execution_count": 35,
      "outputs": [
        {
          "output_type": "execute_result",
          "data": {
            "text/html": [
              "<div>\n",
              "<style scoped>\n",
              "    .dataframe tbody tr th:only-of-type {\n",
              "        vertical-align: middle;\n",
              "    }\n",
              "\n",
              "    .dataframe tbody tr th {\n",
              "        vertical-align: top;\n",
              "    }\n",
              "\n",
              "    .dataframe thead th {\n",
              "        text-align: right;\n",
              "    }\n",
              "</style>\n",
              "<table border=\"1\" class=\"dataframe\">\n",
              "  <thead>\n",
              "    <tr style=\"text-align: right;\">\n",
              "      <th></th>\n",
              "      <th>id</th>\n",
              "      <th>cust_first_name</th>\n",
              "      <th>cust_last_name</th>\n",
              "      <th>brand</th>\n",
              "      <th>model</th>\n",
              "      <th>produce_year</th>\n",
              "      <th>price</th>\n",
              "    </tr>\n",
              "  </thead>\n",
              "  <tbody>\n",
              "    <tr>\n",
              "      <th>0</th>\n",
              "      <td>1</td>\n",
              "      <td>Eben</td>\n",
              "      <td>Eckly</td>\n",
              "      <td>Ford</td>\n",
              "      <td>Econoline E250</td>\n",
              "      <td>2000</td>\n",
              "      <td>$142491.96</td>\n",
              "    </tr>\n",
              "    <tr>\n",
              "      <th>1</th>\n",
              "      <td>2</td>\n",
              "      <td>Roze</td>\n",
              "      <td>Bracchi</td>\n",
              "      <td>Dodge</td>\n",
              "      <td>Avenger</td>\n",
              "      <td>2000</td>\n",
              "      <td>$155259.50</td>\n",
              "    </tr>\n",
              "    <tr>\n",
              "      <th>2</th>\n",
              "      <td>3</td>\n",
              "      <td>Bertram</td>\n",
              "      <td>Coraini</td>\n",
              "      <td>Saab</td>\n",
              "      <td>9000</td>\n",
              "      <td>1996</td>\n",
              "      <td>$58439.18</td>\n",
              "    </tr>\n",
              "    <tr>\n",
              "      <th>3</th>\n",
              "      <td>4</td>\n",
              "      <td>Timothy</td>\n",
              "      <td>Constant</td>\n",
              "      <td>Audi</td>\n",
              "      <td>Quattro</td>\n",
              "      <td>1992</td>\n",
              "      <td>$37731.59</td>\n",
              "    </tr>\n",
              "    <tr>\n",
              "      <th>4</th>\n",
              "      <td>5</td>\n",
              "      <td>Claudie</td>\n",
              "      <td>Schimmang</td>\n",
              "      <td>Cadillac</td>\n",
              "      <td>Escalade</td>\n",
              "      <td>2010</td>\n",
              "      <td>$98561.21</td>\n",
              "    </tr>\n",
              "  </tbody>\n",
              "</table>\n",
              "</div>"
            ],
            "text/plain": [
              "   id cust_first_name cust_last_name  ...           model produce_year       price\n",
              "0   1            Eben          Eckly  ...  Econoline E250         2000  $142491.96\n",
              "1   2            Roze        Bracchi  ...         Avenger         2000  $155259.50\n",
              "2   3         Bertram        Coraini  ...            9000         1996   $58439.18\n",
              "3   4         Timothy       Constant  ...         Quattro         1992   $37731.59\n",
              "4   5         Claudie      Schimmang  ...        Escalade         2010   $98561.21\n",
              "\n",
              "[5 rows x 7 columns]"
            ]
          },
          "metadata": {},
          "execution_count": 35
        }
      ]
    },
    {
      "cell_type": "code",
      "metadata": {
        "colab": {
          "base_uri": "https://localhost:8080/",
          "height": 295
        },
        "id": "kwtr17DtpN9g",
        "outputId": "c390c2fd-10d9-4ee3-8d2b-a053b11db3e0"
      },
      "source": [
        "penjualan = df['cust_first_name'].groupby(df['brand']).count().nlargest(10)\n",
        "plt.barh(penjualan.index, penjualan, color =['#00ffef'], alpha = 0.5)\n",
        "plt.xlabel('jumlah terjual, unit')\n",
        "plt.ylabel('brand mobil')\n",
        "plt.title('Jumlah penjualan tiap brand mobil')\n",
        "plt.savefig('brandmobil.jpg')\n",
        "files.download('brandmobil.jpg')\n",
        "plt.show()\n",
        "\n"
      ],
      "execution_count": 36,
      "outputs": [
        {
          "output_type": "display_data",
          "data": {
            "application/javascript": [
              "\n",
              "    async function download(id, filename, size) {\n",
              "      if (!google.colab.kernel.accessAllowed) {\n",
              "        return;\n",
              "      }\n",
              "      const div = document.createElement('div');\n",
              "      const label = document.createElement('label');\n",
              "      label.textContent = `Downloading \"${filename}\": `;\n",
              "      div.appendChild(label);\n",
              "      const progress = document.createElement('progress');\n",
              "      progress.max = size;\n",
              "      div.appendChild(progress);\n",
              "      document.body.appendChild(div);\n",
              "\n",
              "      const buffers = [];\n",
              "      let downloaded = 0;\n",
              "\n",
              "      const channel = await google.colab.kernel.comms.open(id);\n",
              "      // Send a message to notify the kernel that we're ready.\n",
              "      channel.send({})\n",
              "\n",
              "      for await (const message of channel.messages) {\n",
              "        // Send a message to notify the kernel that we're ready.\n",
              "        channel.send({})\n",
              "        if (message.buffers) {\n",
              "          for (const buffer of message.buffers) {\n",
              "            buffers.push(buffer);\n",
              "            downloaded += buffer.byteLength;\n",
              "            progress.value = downloaded;\n",
              "          }\n",
              "        }\n",
              "      }\n",
              "      const blob = new Blob(buffers, {type: 'application/binary'});\n",
              "      const a = document.createElement('a');\n",
              "      a.href = window.URL.createObjectURL(blob);\n",
              "      a.download = filename;\n",
              "      div.appendChild(a);\n",
              "      a.click();\n",
              "      div.remove();\n",
              "    }\n",
              "  "
            ],
            "text/plain": [
              "<IPython.core.display.Javascript object>"
            ]
          },
          "metadata": {}
        },
        {
          "output_type": "display_data",
          "data": {
            "application/javascript": [
              "download(\"download_56c59cc3-2451-41ca-8848-c99bacf73453\", \"brandmobil.jpg\", 27026)"
            ],
            "text/plain": [
              "<IPython.core.display.Javascript object>"
            ]
          },
          "metadata": {}
        },
        {
          "output_type": "display_data",
          "data": {
            "image/png": "[encoded data removed]",
            "text/plain": [
              "<Figure size 432x288 with 1 Axes>"
            ]
          },
          "metadata": {
            "needs_background": "light"
          }
        }
      ]
    },
    {
      "cell_type": "code",
      "metadata": {
        "colab": {
          "base_uri": "https://localhost:8080/",
          "height": 295
        },
        "id": "BhtA9LmB0FZI",
        "outputId": "bfec41d9-c95e-4dc1-9750-8e815f93d22e"
      },
      "source": [
        "stok1 = df['brand'].groupby(df['model']).count().nlargest(15)\n",
        "plt.barh(stok1.index, stok1)\n",
        "plt.xlabel('jumlah terjual, unit')\n",
        "plt.ylabel('brand mobil')\n",
        "plt.title('Jumlah penjualan tiap brand mobil')\n",
        "plt.savefig('modelmobil.jpg')\n",
        "files.download('modelmobil.jpg')\n",
        "plt.show()\n",
        "\n"
      ],
      "execution_count": 37,
      "outputs": [
        {
          "output_type": "display_data",
          "data": {
            "application/javascript": [
              "\n",
              "    async function download(id, filename, size) {\n",
              "      if (!google.colab.kernel.accessAllowed) {\n",
              "        return;\n",
              "      }\n",
              "      const div = document.createElement('div');\n",
              "      const label = document.createElement('label');\n",
              "      label.textContent = `Downloading \"${filename}\": `;\n",
              "      div.appendChild(label);\n",
              "      const progress = document.createElement('progress');\n",
              "      progress.max = size;\n",
              "      div.appendChild(progress);\n",
              "      document.body.appendChild(div);\n",
              "\n",
              "      const buffers = [];\n",
              "      let downloaded = 0;\n",
              "\n",
              "      const channel = await google.colab.kernel.comms.open(id);\n",
              "      // Send a message to notify the kernel that we're ready.\n",
              "      channel.send({})\n",
              "\n",
              "      for await (const message of channel.messages) {\n",
              "        // Send a message to notify the kernel that we're ready.\n",
              "        channel.send({})\n",
              "        if (message.buffers) {\n",
              "          for (const buffer of message.buffers) {\n",
              "            buffers.push(buffer);\n",
              "            downloaded += buffer.byteLength;\n",
              "            progress.value = downloaded;\n",
              "          }\n",
              "        }\n",
              "      }\n",
              "      const blob = new Blob(buffers, {type: 'application/binary'});\n",
              "      const a = document.createElement('a');\n",
              "      a.href = window.URL.createObjectURL(blob);\n",
              "      a.download = filename;\n",
              "      div.appendChild(a);\n",
              "      a.click();\n",
              "      div.remove();\n",
              "    }\n",
              "  "
            ],
            "text/plain": [
              "<IPython.core.display.Javascript object>"
            ]
          },
          "metadata": {}
        },
        {
          "output_type": "display_data",
          "data": {
            "application/javascript": [
              "download(\"download_b3c710e2-98ca-401f-9a89-d1c255d94357\", \"modelmobil.jpg\", 35126)"
            ],
            "text/plain": [
              "<IPython.core.display.Javascript object>"
            ]
          },
          "metadata": {}
        },
        {
          "output_type": "display_data",
          "data": {
            "image/png": "[encoded data removed]",
            "text/plain": [
              "<Figure size 432x288 with 1 Axes>"
            ]
          },
          "metadata": {
            "needs_background": "light"
          }
        }
      ]
    },
    {
      "cell_type": "code",
      "metadata": {
        "colab": {
          "base_uri": "https://localhost:8080/",
          "height": 280
        },
        "id": "jvqXUdYN0-AS",
        "outputId": "5d966fd6-0c7e-4d03-c097-a3759d0bf432"
      },
      "source": [
        "sns.countplot(x='produce_year',data=df,order = pd.value_counts(df['produce_year']).iloc[:5].index)\n",
        "plt.savefig('tahunproduksi.jpg')\n",
        "files.download('tahunproduksi.jpg')\n",
        "\n"
      ],
      "execution_count": 40,
      "outputs": [
        {
          "output_type": "display_data",
          "data": {
            "application/javascript": [
              "\n",
              "    async function download(id, filename, size) {\n",
              "      if (!google.colab.kernel.accessAllowed) {\n",
              "        return;\n",
              "      }\n",
              "      const div = document.createElement('div');\n",
              "      const label = document.createElement('label');\n",
              "      label.textContent = `Downloading \"${filename}\": `;\n",
              "      div.appendChild(label);\n",
              "      const progress = document.createElement('progress');\n",
              "      progress.max = size;\n",
              "      div.appendChild(progress);\n",
              "      document.body.appendChild(div);\n",
              "\n",
              "      const buffers = [];\n",
              "      let downloaded = 0;\n",
              "\n",
              "      const channel = await google.colab.kernel.comms.open(id);\n",
              "      // Send a message to notify the kernel that we're ready.\n",
              "      channel.send({})\n",
              "\n",
              "      for await (const message of channel.messages) {\n",
              "        // Send a message to notify the kernel that we're ready.\n",
              "        channel.send({})\n",
              "        if (message.buffers) {\n",
              "          for (const buffer of message.buffers) {\n",
              "            buffers.push(buffer);\n",
              "            downloaded += buffer.byteLength;\n",
              "            progress.value = downloaded;\n",
              "          }\n",
              "        }\n",
              "      }\n",
              "      const blob = new Blob(buffers, {type: 'application/binary'});\n",
              "      const a = document.createElement('a');\n",
              "      a.href = window.URL.createObjectURL(blob);\n",
              "      a.download = filename;\n",
              "      div.appendChild(a);\n",
              "      a.click();\n",
              "      div.remove();\n",
              "    }\n",
              "  "
            ],
            "text/plain": [
              "<IPython.core.display.Javascript object>"
            ]
          },
          "metadata": {}
        },
        {
          "output_type": "display_data",
          "data": {
            "application/javascript": [
              "download(\"download_698e1bd4-64ba-497f-b815-d3ae8e0767e8\", \"tahunproduksi.jpg\", 19641)"
            ],
            "text/plain": [
              "<IPython.core.display.Javascript object>"
            ]
          },
          "metadata": {}
        },
        {
          "output_type": "display_data",
          "data": {
            "image/png": "[encoded data removed]",
            "text/plain": [
              "<Figure size 432x288 with 1 Axes>"
            ]
          },
          "metadata": {
            "needs_background": "light"
          }
        }
      ]
    },
    {
      "cell_type": "code",
      "metadata": {
        "id": "iwYE-dI0Eo4p"
      },
      "source": [
        "tips = sns.load_dataset('tips')\n",
        "tips.head()"
      ],
      "execution_count": null,
      "outputs": []
    },
    {
      "cell_type": "code",
      "metadata": {
        "id": "2l7HB0lV7FfV"
      },
      "source": [
        "with sns.axes_style(style='ticks'):\n",
        "    g = sns.catplot(\"day\", \"total_bill\", \"sex\", data=tips, kind=\"box\")\n",
        "    g.set_axis_labels(\"Day\", \"Total Bill\");"
      ],
      "execution_count": null,
      "outputs": []
    },
    {
      "cell_type": "code",
      "metadata": {
        "id": "2aivsyu87qP7"
      },
      "source": [
        ""
      ],
      "execution_count": null,
      "outputs": []
    }
  ]
}